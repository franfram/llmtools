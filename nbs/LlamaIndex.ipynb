{
 "cells": [
  {
   "attachments": {},
   "cell_type": "markdown",
   "id": "25cfe760-91d5-4056-945e-57467c6e3014",
   "metadata": {},
   "source": [
    "# \n",
    "\n",
    "# "
   ]
  },
  {
   "attachments": {},
   "cell_type": "markdown",
   "id": "19625e30-04f0-42e0-89eb-64b990e4bab3",
   "metadata": {},
   "source": [
    "# \n",
    "\n",
    "# "
   ]
  },
  {
   "cell_type": "code",
   "execution_count": null,
   "id": "cd64db25-2803-45b7-861a-6c76c37cbcc1",
   "metadata": {},
   "outputs": [],
   "source": []
  },
  {
   "cell_type": "markdown",
   "id": "9c90c4a9-3aab-41f7-b319-8ab0356dd09b",
   "metadata": {},
   "source": [
    "# "
   ]
  },
  {
   "cell_type": "markdown",
   "id": "1a209cf4-9bca-4a39-8677-8e2e9eddba07",
   "metadata": {},
   "source": []
  },
  {
   "cell_type": "markdown",
   "id": "c47bafe0-2336-4688-b9c2-5c353ba2cbb9",
   "metadata": {},
   "source": [
    "print(\"hello\")"
   ]
  },
  {
   "cell_type": "code",
   "execution_count": 1,
   "id": "0ca5d3ff-54a9-4317-a27d-e43a45fa945e",
   "metadata": {},
   "outputs": [
    {
     "name": "stdout",
     "output_type": "stream",
     "text": [
      "hello\n"
     ]
    }
   ],
   "source": [
    "print('hello')"
   ]
  },
  {
   "cell_type": "code",
   "execution_count": 2,
   "id": "bf6d2d95-ea2a-48b1-8726-0f6ca61be2cb",
   "metadata": {},
   "outputs": [
    {
     "name": "stdout",
     "output_type": "stream",
     "text": [
      "Requirement already satisfied: llama-hub in /home/franfram/.pyenv/versions/3.11.1/lib/python3.11/site-packages (0.0.15)\n",
      "Requirement already satisfied: atlassian-python-api in /home/franfram/.pyenv/versions/3.11.1/lib/python3.11/site-packages (from llama-hub) (3.39.0)\n",
      "Requirement already satisfied: html2text in /home/franfram/.pyenv/versions/3.11.1/lib/python3.11/site-packages (from llama-hub) (2020.1.16)\n",
      "Requirement already satisfied: llama-index>=0.6.9 in /home/franfram/.pyenv/versions/3.11.1/lib/python3.11/site-packages (from llama-hub) (0.7.13)\n",
      "Requirement already satisfied: psutil in /home/franfram/.pyenv/versions/3.11.1/lib/python3.11/site-packages (from llama-hub) (5.9.5)\n",
      "Requirement already satisfied: retrying in /home/franfram/.pyenv/versions/3.11.1/lib/python3.11/site-packages (from llama-hub) (1.3.4)\n",
      "Requirement already satisfied: tiktoken in /home/franfram/.pyenv/versions/3.11.1/lib/python3.11/site-packages (from llama-index>=0.6.9->llama-hub) (0.4.0)\n",
      "Requirement already satisfied: dataclasses-json in /home/franfram/.pyenv/versions/3.11.1/lib/python3.11/site-packages (from llama-index>=0.6.9->llama-hub) (0.5.13)\n",
      "Requirement already satisfied: langchain>=0.0.218 in /home/franfram/.pyenv/versions/3.11.1/lib/python3.11/site-packages (from llama-index>=0.6.9->llama-hub) (0.0.244)\n",
      "Requirement already satisfied: sqlalchemy>=2.0.15 in /home/franfram/.pyenv/versions/3.11.1/lib/python3.11/site-packages (from llama-index>=0.6.9->llama-hub) (2.0.19)\n",
      "Requirement already satisfied: numpy in /home/franfram/.pyenv/versions/3.11.1/lib/python3.11/site-packages (from llama-index>=0.6.9->llama-hub) (1.25.1)\n",
      "Requirement already satisfied: tenacity<9.0.0,>=8.2.0 in /home/franfram/.pyenv/versions/3.11.1/lib/python3.11/site-packages (from llama-index>=0.6.9->llama-hub) (8.2.2)\n",
      "Requirement already satisfied: openai>=0.26.4 in /home/franfram/.pyenv/versions/3.11.1/lib/python3.11/site-packages (from llama-index>=0.6.9->llama-hub) (0.27.8)\n",
      "Requirement already satisfied: pandas in /home/franfram/.pyenv/versions/3.11.1/lib/python3.11/site-packages (from llama-index>=0.6.9->llama-hub) (2.0.3)\n",
      "Requirement already satisfied: urllib3<2 in /home/franfram/.pyenv/versions/3.11.1/lib/python3.11/site-packages (from llama-index>=0.6.9->llama-hub) (1.26.16)\n",
      "Requirement already satisfied: fsspec>=2023.5.0 in /home/franfram/.pyenv/versions/3.11.1/lib/python3.11/site-packages (from llama-index>=0.6.9->llama-hub) (2023.6.0)\n",
      "Requirement already satisfied: typing-inspect>=0.8.0 in /home/franfram/.pyenv/versions/3.11.1/lib/python3.11/site-packages (from llama-index>=0.6.9->llama-hub) (0.9.0)\n",
      "Requirement already satisfied: typing-extensions>=4.5.0 in /home/franfram/.pyenv/versions/3.11.1/lib/python3.11/site-packages (from llama-index>=0.6.9->llama-hub) (4.7.1)\n",
      "Requirement already satisfied: beautifulsoup4 in /home/franfram/.pyenv/versions/3.11.1/lib/python3.11/site-packages (from llama-index>=0.6.9->llama-hub) (4.12.2)\n",
      "Requirement already satisfied: nest-asyncio in /home/franfram/.pyenv/versions/3.11.1/lib/python3.11/site-packages (from llama-index>=0.6.9->llama-hub) (1.5.6)\n",
      "Requirement already satisfied: deprecated in /home/franfram/.pyenv/versions/3.11.1/lib/python3.11/site-packages (from atlassian-python-api->llama-hub) (1.2.14)\n",
      "Requirement already satisfied: requests in /home/franfram/.pyenv/versions/3.11.1/lib/python3.11/site-packages (from atlassian-python-api->llama-hub) (2.31.0)\n",
      "Requirement already satisfied: six in /home/franfram/.pyenv/versions/3.11.1/lib/python3.11/site-packages (from atlassian-python-api->llama-hub) (1.16.0)\n",
      "Requirement already satisfied: oauthlib in /home/franfram/.pyenv/versions/3.11.1/lib/python3.11/site-packages (from atlassian-python-api->llama-hub) (3.2.2)\n",
      "Requirement already satisfied: requests-oauthlib in /home/franfram/.pyenv/versions/3.11.1/lib/python3.11/site-packages (from atlassian-python-api->llama-hub) (1.3.1)\n",
      "Requirement already satisfied: PyYAML>=5.4.1 in /home/franfram/.pyenv/versions/3.11.1/lib/python3.11/site-packages (from langchain>=0.0.218->llama-index>=0.6.9->llama-hub) (6.0.1)\n",
      "Requirement already satisfied: aiohttp<4.0.0,>=3.8.3 in /home/franfram/.pyenv/versions/3.11.1/lib/python3.11/site-packages (from langchain>=0.0.218->llama-index>=0.6.9->llama-hub) (3.8.5)\n",
      "Requirement already satisfied: langsmith<0.1.0,>=0.0.11 in /home/franfram/.pyenv/versions/3.11.1/lib/python3.11/site-packages (from langchain>=0.0.218->llama-index>=0.6.9->llama-hub) (0.0.14)\n",
      "Requirement already satisfied: numexpr<3.0.0,>=2.8.4 in /home/franfram/.pyenv/versions/3.11.1/lib/python3.11/site-packages (from langchain>=0.0.218->llama-index>=0.6.9->llama-hub) (2.8.4)\n",
      "Requirement already satisfied: openapi-schema-pydantic<2.0,>=1.2 in /home/franfram/.pyenv/versions/3.11.1/lib/python3.11/site-packages (from langchain>=0.0.218->llama-index>=0.6.9->llama-hub) (1.2.4)\n",
      "Requirement already satisfied: pydantic<2,>=1 in /home/franfram/.pyenv/versions/3.11.1/lib/python3.11/site-packages (from langchain>=0.0.218->llama-index>=0.6.9->llama-hub) (1.10.12)\n",
      "Requirement already satisfied: marshmallow<4.0.0,>=3.18.0 in /home/franfram/.pyenv/versions/3.11.1/lib/python3.11/site-packages (from dataclasses-json->llama-index>=0.6.9->llama-hub) (3.20.1)\n",
      "Requirement already satisfied: tqdm in /home/franfram/.pyenv/versions/3.11.1/lib/python3.11/site-packages (from openai>=0.26.4->llama-index>=0.6.9->llama-hub) (4.65.0)\n",
      "Requirement already satisfied: charset-normalizer<4,>=2 in /home/franfram/.pyenv/versions/3.11.1/lib/python3.11/site-packages (from requests->atlassian-python-api->llama-hub) (3.2.0)\n",
      "Requirement already satisfied: idna<4,>=2.5 in /home/franfram/.pyenv/versions/3.11.1/lib/python3.11/site-packages (from requests->atlassian-python-api->llama-hub) (3.4)\n",
      "Requirement already satisfied: certifi>=2017.4.17 in /home/franfram/.pyenv/versions/3.11.1/lib/python3.11/site-packages (from requests->atlassian-python-api->llama-hub) (2023.7.22)\n",
      "Requirement already satisfied: greenlet!=0.4.17 in /home/franfram/.pyenv/versions/3.11.1/lib/python3.11/site-packages (from sqlalchemy>=2.0.15->llama-index>=0.6.9->llama-hub) (2.0.2)\n",
      "Requirement already satisfied: mypy-extensions>=0.3.0 in /home/franfram/.pyenv/versions/3.11.1/lib/python3.11/site-packages (from typing-inspect>=0.8.0->llama-index>=0.6.9->llama-hub) (1.0.0)\n",
      "Requirement already satisfied: soupsieve>1.2 in /home/franfram/.pyenv/versions/3.11.1/lib/python3.11/site-packages (from beautifulsoup4->llama-index>=0.6.9->llama-hub) (2.4.1)\n",
      "Requirement already satisfied: wrapt<2,>=1.10 in /home/franfram/.pyenv/versions/3.11.1/lib/python3.11/site-packages (from deprecated->atlassian-python-api->llama-hub) (1.15.0)\n",
      "Requirement already satisfied: python-dateutil>=2.8.2 in /home/franfram/.pyenv/versions/3.11.1/lib/python3.11/site-packages (from pandas->llama-index>=0.6.9->llama-hub) (2.8.2)\n",
      "Requirement already satisfied: pytz>=2020.1 in /home/franfram/.pyenv/versions/3.11.1/lib/python3.11/site-packages (from pandas->llama-index>=0.6.9->llama-hub) (2023.3)\n",
      "Requirement already satisfied: tzdata>=2022.1 in /home/franfram/.pyenv/versions/3.11.1/lib/python3.11/site-packages (from pandas->llama-index>=0.6.9->llama-hub) (2023.3)\n",
      "Requirement already satisfied: regex>=2022.1.18 in /home/franfram/.pyenv/versions/3.11.1/lib/python3.11/site-packages (from tiktoken->llama-index>=0.6.9->llama-hub) (2023.6.3)\n",
      "Requirement already satisfied: attrs>=17.3.0 in /home/franfram/.pyenv/versions/3.11.1/lib/python3.11/site-packages (from aiohttp<4.0.0,>=3.8.3->langchain>=0.0.218->llama-index>=0.6.9->llama-hub) (23.1.0)\n",
      "Requirement already satisfied: multidict<7.0,>=4.5 in /home/franfram/.pyenv/versions/3.11.1/lib/python3.11/site-packages (from aiohttp<4.0.0,>=3.8.3->langchain>=0.0.218->llama-index>=0.6.9->llama-hub) (6.0.4)\n",
      "Requirement already satisfied: async-timeout<5.0,>=4.0.0a3 in /home/franfram/.pyenv/versions/3.11.1/lib/python3.11/site-packages (from aiohttp<4.0.0,>=3.8.3->langchain>=0.0.218->llama-index>=0.6.9->llama-hub) (4.0.2)\n",
      "Requirement already satisfied: yarl<2.0,>=1.0 in /home/franfram/.pyenv/versions/3.11.1/lib/python3.11/site-packages (from aiohttp<4.0.0,>=3.8.3->langchain>=0.0.218->llama-index>=0.6.9->llama-hub) (1.9.2)\n",
      "Requirement already satisfied: frozenlist>=1.1.1 in /home/franfram/.pyenv/versions/3.11.1/lib/python3.11/site-packages (from aiohttp<4.0.0,>=3.8.3->langchain>=0.0.218->llama-index>=0.6.9->llama-hub) (1.4.0)\n",
      "Requirement already satisfied: aiosignal>=1.1.2 in /home/franfram/.pyenv/versions/3.11.1/lib/python3.11/site-packages (from aiohttp<4.0.0,>=3.8.3->langchain>=0.0.218->llama-index>=0.6.9->llama-hub) (1.3.1)\n",
      "Requirement already satisfied: packaging>=17.0 in /home/franfram/.pyenv/versions/3.11.1/lib/python3.11/site-packages (from marshmallow<4.0.0,>=3.18.0->dataclasses-json->llama-index>=0.6.9->llama-hub) (23.1)\n",
      "\n",
      "\u001b[1m[\u001b[0m\u001b[34;49mnotice\u001b[0m\u001b[1;39;49m]\u001b[0m\u001b[39;49m A new release of pip available: \u001b[0m\u001b[31;49m22.3.1\u001b[0m\u001b[39;49m -> \u001b[0m\u001b[32;49m23.2.1\u001b[0m\n",
      "\u001b[1m[\u001b[0m\u001b[34;49mnotice\u001b[0m\u001b[1;39;49m]\u001b[0m\u001b[39;49m To update, run: \u001b[0m\u001b[32;49mpip install --upgrade pip\u001b[0m\n"
     ]
    }
   ],
   "source": [
    "!pip install llama-hub"
   ]
  },
  {
   "cell_type": "code",
   "execution_count": 3,
   "id": "18e321dd-4ceb-4582-a14b-4f9eb9f8c4f5",
   "metadata": {},
   "outputs": [
    {
     "name": "stdout",
     "output_type": "stream",
     "text": [
      "Requirement already satisfied: pypdf in /home/franfram/.pyenv/versions/3.11.1/lib/python3.11/site-packages (3.13.0)\n",
      "\n",
      "\u001b[1m[\u001b[0m\u001b[34;49mnotice\u001b[0m\u001b[1;39;49m]\u001b[0m\u001b[39;49m A new release of pip available: \u001b[0m\u001b[31;49m22.3.1\u001b[0m\u001b[39;49m -> \u001b[0m\u001b[32;49m23.2.1\u001b[0m\n",
      "\u001b[1m[\u001b[0m\u001b[34;49mnotice\u001b[0m\u001b[1;39;49m]\u001b[0m\u001b[39;49m To update, run: \u001b[0m\u001b[32;49mpip install --upgrade pip\u001b[0m\n"
     ]
    }
   ],
   "source": [
    "!pip install pypdf"
   ]
  },
  {
   "cell_type": "code",
   "execution_count": 27,
   "id": "6095df56-7ef7-4f89-9f42-eee0096dfdf8",
   "metadata": {},
   "outputs": [],
   "source": [
    "\n",
    "\n",
    "from llama_index import VectorStoreIndex\n",
    "from llama_hub.file.pdf.base import PDFReader\n",
    "from pathlib import Path\n",
    "\n",
    "# Data Loader\n",
    "loader = PDFReader()\n",
    "documents = loader.load_data(file=Path('../codigo_penal_de_la_republica_argentina.pdf'))\n",
    "\n",
    "\n",
    "# Chunking and Embedding of the chunks.\n",
    "index = VectorStoreIndex.from_documents(documents)\n",
    "\n",
    "\n",
    "# Retrieval, node poseprocessing, response synthesis. \n",
    "query_engine = index.as_query_engine()\n",
    "\n",
    "\n",
    "# Run the query engine on a user question.\n",
    "response = query_engine.query(\"que dice el articulo 14 del codigo penal argentino?\")\n",
    "\n",
    "\n",
    "\n",
    "\n",
    "\n"
   ]
  },
  {
   "cell_type": "code",
   "execution_count": 28,
   "id": "49df1837-f0e6-4ee2-a91b-ef05a8843c06",
   "metadata": {},
   "outputs": [
    {
     "data": {
      "text/plain": [
       "Response(response='\\nEl artículo 14 del Código Penal argentino establece que cuando alguno de los delitos previstos en el Código se haya cometido con la intervención de menores de dieciocho años de edad, la escala penal correspondiente se incrementará en un tercio del mínimo y del máximo respecto de los mayores que hubieren participado en el mismo.', source_nodes=[NodeWithScore(node=TextNode(id_='d153518b-5b34-4273-80a5-0cd16163f917', embedding=None, metadata={'page_label': '11', 'file_name': 'codigo_penal_de_la_republica_argentina.pdf'}, excluded_embed_metadata_keys=[], excluded_llm_metadata_keys=[], relationships={<NodeRelationship.SOURCE: '1'>: RelatedNodeInfo(node_id='d3da7c85-c799-460a-be76-8834524070cd', node_type=None, metadata={'page_label': '11', 'file_name': 'codigo_penal_de_la_republica_argentina.pdf'}, hash='ae36a6fa055db3f49b7c47c61c98d3ead0fe13e7bd7d97750d54f061d1e09859')}, hash='c049ec64a8e23fe671db12216bd0a4081de91b302b4b6c407c54eb0481837dfd', text='encuentra privada de su libertad, o la identidad de o tros partícipes o encubridores del hecho, o \\ncualquier otro dato que posibilite su esclarecimiento. \\nEn caso de corresponder prisión o reclusión perpetua, podr á aplicarse prisión o reclusión de \\nOCHO (8) a QUINCE (15) años. \\nSólo podrán gozar de este beneficio quienes tengan una  responsabilidad penal inferior a la de \\nlas personas a quienes identificasen. \\n(Artículo sustituido por art. 12 de la Ley N° 26.364 , B.O. 30/4/2008) \\nARTICULO 41 quater —  Cuando alguno de los delitos previstos en este Código se a cometido \\ncon la intervención de menores de dieciocho años de edad , la escala penal correspondiente se \\nincrementará en un tercio del mínimo y del máximo, re specto de los mayores que hubieren \\nparticipado en el mismo. \\n(Artículo incorporado por art. 1° de la Ley N° 25.767  B.O. 1/9/2003) \\nTITULO VI \\nTENTATIVA \\nARTICULO 42.-  El que con el fin de cometer un delito determinado co mienza su ejecución, \\npero no lo consuma por circunstancias ajenas a su voluntad , sufrirá las penas determinadas en \\nel artículo 44.  \\nARTICULO 43.-  El autor de tentativa no estará sujeto a pena cuando desistiere \\nvoluntariamente del delito.  \\nARTICULO 44.-  La pena que correspondería al agente, si hubiere consum ado el delito, se \\ndisminuirá de un tercio a la mitad.  \\nSi la pena fuere de reclusión perpetua, la pena de la  tentativa será reclusión de quince a \\nveinte años. Si la pena fuese de prisión perpetua, la de tentativa será prisión de diez a quince \\naños.  \\nSi el delito fuera imposible, la pena se disminuirá e n la mitad y podrá reducírsela al mínimo \\nlegal o eximirse de ella, según el grado de peligrosi dad revelada por el delincuente.  \\nTITULO VII \\nPARTICIPACION CRIMINAL \\nARTICULO 45.-  Los que tomasen parte en la ejecución del hecho o presta sen al autor o \\nautores un auxilio o cooperación sin los cuales no habría podido cometerse, tendrán la pena \\nestablecida para el delito. En la misma pena incurrirán  los que hubiesen determinado \\ndirectamente a otro a cometerlo.  \\nARTICULO 46.-  Los que cooperen de cualquier otro modo a la ejecución  del hecho y los que \\npresten una ayuda posterior cumpliendo promesas anterior es al mismo, serán reprimidos con \\nla pena correspondiente al delito, disminuida de un te rcio a la mitad. Si la pena fuere de \\nreclusión perpetua, se aplicará reclusión de quince a vein te años y si fuere de prisión \\nperpetua, se aplicará prisión de diez a quince años.', start_char_idx=0, end_char_idx=2467, text_template='{metadata_str}\\n\\n{content}', metadata_template='{key}: {value}', metadata_seperator='\\n'), score=0.8807650146406303), NodeWithScore(node=TextNode(id_='c141b024-59fa-4629-937a-15fee065d86d', embedding=None, metadata={'page_label': '30', 'file_name': 'codigo_penal_de_la_republica_argentina.pdf'}, excluded_embed_metadata_keys=[], excluded_llm_metadata_keys=[], relationships={<NodeRelationship.SOURCE: '1'>: RelatedNodeInfo(node_id='8b732a4a-2bac-4536-92ff-7383b6e0a6da', node_type=None, metadata={'page_label': '30', 'file_name': 'codigo_penal_de_la_republica_argentina.pdf'}, hash='f569556778db476c853123dc79014bf01ab42e3e38fbe5807edccf87d63c227d')}, hash='e5f547ff996193be23f1ce97ab87edf67da0c4de2d59468fba406e5cd863231a', text='equitativo de armonizar el conflicto con mejor resguar do del interés de la víctima. En tal caso \\nla acción penal quedará extinguida; o en el mismo supu esto también podrá disponer la \\naplicación al caso de lo dispuesto por los artículos 76 ter  y 76 quáter del Código Penal.  \\n(Artículo sustituido por art. 15 de la Ley N° 25.087  B.O. 14/5/1999) \\nARTICULO 133.  - Los ascendientes, descendientes, cónyuges, convivientes, a fines en línea \\nrecta, hermanos, tutores, curadores y cualesquiera persona que, con abuso de una relación de \\ndependencia, de autoridad, de poder, de confianza o e ncargo, cooperaren a la perpetración de \\nlos delitos comprendidos en este título serán reprimidos co n la pena de los autores. \\n(Artículo sustituido por art. 13 de la Ley N° 25.087  B.O.14/5/1999) \\n(Nota Infoleg:  rúbricas de los capítulos II, III, IV y V derogadas por art. 1° de la Ley N° \\n25.087  B.O.14/5/1999) \\nTITULO IV \\nDELITOS CONTRA EL ESTADO CIVIL \\nCapítulo I \\nMatrimonios ilegales \\nARTICULO 134.  - Serán reprimidos con prisión de uno a cuatro años, lo s que contrajeren \\nmatrimonio sabiendo ambos que existe impedimento que ca use su nulidad absoluta.  \\nARTICULO 135.  - Serán reprimidos con prisión de dos a seis años:  \\n1º. El que contrajere matrimonio cuando, sabiendo que existe impedimento que cause su \\nnulidad absoluta, ocultare esta circunstancia al otro contr ayente;  \\n2º. El que engañando a una persona, simulare matrimon io con ella.  \\nARTICULO 136.  - El oficial público que a sabiendas autorizare un mat rimonio de los \\ncomprendidos en los artículos anteriores, sufrirá, en su ca so, la pena que en ellos se \\ndetermina.  \\nSi lo autorizare sin saberlo, cuando su ignorancia prove nga de no haber llenado los requisitos \\nque la ley prescribe para la celebración del matrimonio , la pena será de multa de setecientos \\ncincuenta a pesos doce mil quinientos e inhabilitación esp ecial por seis meses a dos años.  \\nSufrirá multa de pesos setecientos cincuenta a pesos doce mi l quinientos el oficial público que, \\nfuera de los demás casos de este artículo, procediere a la celebración de un matrimonio sin \\nhaber observado todas las formalidades exigidas por la l ey.  \\n(Nota Infoleg:  multa actualizada por art. 1° de la Ley N° 24.286  B.O. 29/12/1993) \\nARTICULO 137.  - En la misma pena incurrirá el representante legítim o de un menor impúber \\nque diere el consentimiento para el matrimonio del mi smo.  \\nCapítulo II', start_char_idx=0, end_char_idx=2428, text_template='{metadata_str}\\n\\n{content}', metadata_template='{key}: {value}', metadata_seperator='\\n'), score=0.878223415137106)], metadata={'d153518b-5b34-4273-80a5-0cd16163f917': {'page_label': '11', 'file_name': 'codigo_penal_de_la_republica_argentina.pdf'}, 'c141b024-59fa-4629-937a-15fee065d86d': {'page_label': '30', 'file_name': 'codigo_penal_de_la_republica_argentina.pdf'}})"
      ]
     },
     "execution_count": 28,
     "metadata": {},
     "output_type": "execute_result"
    }
   ],
   "source": [
    "response"
   ]
  },
  {
   "cell_type": "code",
   "execution_count": null,
   "id": "e9e40884-9106-44dd-80b4-2d670f225f99",
   "metadata": {},
   "outputs": [],
   "source": []
  },
  {
   "cell_type": "code",
   "execution_count": null,
   "id": "c084270a-d83c-4d20-9646-65190ffb7a07",
   "metadata": {},
   "outputs": [],
   "source": []
  },
  {
   "cell_type": "code",
   "execution_count": null,
   "id": "df5dec91-1705-4942-871a-8ff945c9e300",
   "metadata": {},
   "outputs": [],
   "source": []
  },
  {
   "cell_type": "code",
   "execution_count": null,
   "id": "4950356d-5af0-4d04-afef-8585235b9122",
   "metadata": {},
   "outputs": [],
   "source": []
  },
  {
   "cell_type": "code",
   "execution_count": null,
   "id": "35b898f4-c397-47ae-bab3-fd61ccefa64d",
   "metadata": {},
   "outputs": [],
   "source": [
    "!pip install wandb"
   ]
  },
  {
   "cell_type": "code",
   "execution_count": 31,
   "id": "7cd925db-6f5e-4b78-b241-5e1f77be6394",
   "metadata": {},
   "outputs": [
    {
     "name": "stderr",
     "output_type": "stream",
     "text": [
      "\u001b[34m\u001b[1mwandb\u001b[0m: \u001b[33mWARNING\u001b[0m Serializing object of type str that is 433504 bytes\n",
      "\u001b[34m\u001b[1mwandb\u001b[0m: \u001b[33mWARNING\u001b[0m Serializing object of type str that is 440774 bytes\n",
      "\u001b[34m\u001b[1mwandb\u001b[0m: \u001b[33mWARNING\u001b[0m Serializing object of type str that is 433504 bytes\n",
      "\u001b[34m\u001b[1mwandb\u001b[0m: \u001b[33mWARNING\u001b[0m Serializing object of type str that is 440774 bytes\n",
      "\u001b[34m\u001b[1mwandb\u001b[0m: Logged trace tree to W&B.\n",
      "\u001b[34m\u001b[1mwandb\u001b[0m: Logged trace tree to W&B.\n"
     ]
    },
    {
     "data": {
      "text/plain": [
       "Response(response='\\nEl artículo 14 del Código Penal argentino establece que cuando alguno de los delitos previstos en el Código se haya cometido con la intervención de menores de dieciocho años de edad, la escala penal correspondiente se incrementará en un tercio del mínimo y del máximo respecto de los mayores que hubieren participado en el mismo.', source_nodes=[NodeWithScore(node=TextNode(id_='aab97e14-d6df-4e99-bb5f-43f3cddef01e', embedding=None, metadata={'page_label': '11', 'file_name': 'codigo_penal_de_la_republica_argentina.pdf'}, excluded_embed_metadata_keys=[], excluded_llm_metadata_keys=[], relationships={<NodeRelationship.SOURCE: '1'>: RelatedNodeInfo(node_id='5ac916ee-a87f-4bb2-ab54-6f60c12f241d', node_type=None, metadata={'page_label': '11', 'file_name': 'codigo_penal_de_la_republica_argentina.pdf'}, hash='ae36a6fa055db3f49b7c47c61c98d3ead0fe13e7bd7d97750d54f061d1e09859')}, hash='c049ec64a8e23fe671db12216bd0a4081de91b302b4b6c407c54eb0481837dfd', text='encuentra privada de su libertad, o la identidad de o tros partícipes o encubridores del hecho, o \\ncualquier otro dato que posibilite su esclarecimiento. \\nEn caso de corresponder prisión o reclusión perpetua, podr á aplicarse prisión o reclusión de \\nOCHO (8) a QUINCE (15) años. \\nSólo podrán gozar de este beneficio quienes tengan una  responsabilidad penal inferior a la de \\nlas personas a quienes identificasen. \\n(Artículo sustituido por art. 12 de la Ley N° 26.364 , B.O. 30/4/2008) \\nARTICULO 41 quater —  Cuando alguno de los delitos previstos en este Código se a cometido \\ncon la intervención de menores de dieciocho años de edad , la escala penal correspondiente se \\nincrementará en un tercio del mínimo y del máximo, re specto de los mayores que hubieren \\nparticipado en el mismo. \\n(Artículo incorporado por art. 1° de la Ley N° 25.767  B.O. 1/9/2003) \\nTITULO VI \\nTENTATIVA \\nARTICULO 42.-  El que con el fin de cometer un delito determinado co mienza su ejecución, \\npero no lo consuma por circunstancias ajenas a su voluntad , sufrirá las penas determinadas en \\nel artículo 44.  \\nARTICULO 43.-  El autor de tentativa no estará sujeto a pena cuando desistiere \\nvoluntariamente del delito.  \\nARTICULO 44.-  La pena que correspondería al agente, si hubiere consum ado el delito, se \\ndisminuirá de un tercio a la mitad.  \\nSi la pena fuere de reclusión perpetua, la pena de la  tentativa será reclusión de quince a \\nveinte años. Si la pena fuese de prisión perpetua, la de tentativa será prisión de diez a quince \\naños.  \\nSi el delito fuera imposible, la pena se disminuirá e n la mitad y podrá reducírsela al mínimo \\nlegal o eximirse de ella, según el grado de peligrosi dad revelada por el delincuente.  \\nTITULO VII \\nPARTICIPACION CRIMINAL \\nARTICULO 45.-  Los que tomasen parte en la ejecución del hecho o presta sen al autor o \\nautores un auxilio o cooperación sin los cuales no habría podido cometerse, tendrán la pena \\nestablecida para el delito. En la misma pena incurrirán  los que hubiesen determinado \\ndirectamente a otro a cometerlo.  \\nARTICULO 46.-  Los que cooperen de cualquier otro modo a la ejecución  del hecho y los que \\npresten una ayuda posterior cumpliendo promesas anterior es al mismo, serán reprimidos con \\nla pena correspondiente al delito, disminuida de un te rcio a la mitad. Si la pena fuere de \\nreclusión perpetua, se aplicará reclusión de quince a vein te años y si fuere de prisión \\nperpetua, se aplicará prisión de diez a quince años.', start_char_idx=0, end_char_idx=2467, text_template='{metadata_str}\\n\\n{content}', metadata_template='{key}: {value}', metadata_seperator='\\n'), score=0.8807653371758749), NodeWithScore(node=TextNode(id_='d724df88-9b20-4de7-8051-fce1cee5e4ef', embedding=None, metadata={'page_label': '30', 'file_name': 'codigo_penal_de_la_republica_argentina.pdf'}, excluded_embed_metadata_keys=[], excluded_llm_metadata_keys=[], relationships={<NodeRelationship.SOURCE: '1'>: RelatedNodeInfo(node_id='21417ad2-1122-43c0-8d67-c8136bf62673', node_type=None, metadata={'page_label': '30', 'file_name': 'codigo_penal_de_la_republica_argentina.pdf'}, hash='f569556778db476c853123dc79014bf01ab42e3e38fbe5807edccf87d63c227d')}, hash='e5f547ff996193be23f1ce97ab87edf67da0c4de2d59468fba406e5cd863231a', text='equitativo de armonizar el conflicto con mejor resguar do del interés de la víctima. En tal caso \\nla acción penal quedará extinguida; o en el mismo supu esto también podrá disponer la \\naplicación al caso de lo dispuesto por los artículos 76 ter  y 76 quáter del Código Penal.  \\n(Artículo sustituido por art. 15 de la Ley N° 25.087  B.O. 14/5/1999) \\nARTICULO 133.  - Los ascendientes, descendientes, cónyuges, convivientes, a fines en línea \\nrecta, hermanos, tutores, curadores y cualesquiera persona que, con abuso de una relación de \\ndependencia, de autoridad, de poder, de confianza o e ncargo, cooperaren a la perpetración de \\nlos delitos comprendidos en este título serán reprimidos co n la pena de los autores. \\n(Artículo sustituido por art. 13 de la Ley N° 25.087  B.O.14/5/1999) \\n(Nota Infoleg:  rúbricas de los capítulos II, III, IV y V derogadas por art. 1° de la Ley N° \\n25.087  B.O.14/5/1999) \\nTITULO IV \\nDELITOS CONTRA EL ESTADO CIVIL \\nCapítulo I \\nMatrimonios ilegales \\nARTICULO 134.  - Serán reprimidos con prisión de uno a cuatro años, lo s que contrajeren \\nmatrimonio sabiendo ambos que existe impedimento que ca use su nulidad absoluta.  \\nARTICULO 135.  - Serán reprimidos con prisión de dos a seis años:  \\n1º. El que contrajere matrimonio cuando, sabiendo que existe impedimento que cause su \\nnulidad absoluta, ocultare esta circunstancia al otro contr ayente;  \\n2º. El que engañando a una persona, simulare matrimon io con ella.  \\nARTICULO 136.  - El oficial público que a sabiendas autorizare un mat rimonio de los \\ncomprendidos en los artículos anteriores, sufrirá, en su ca so, la pena que en ellos se \\ndetermina.  \\nSi lo autorizare sin saberlo, cuando su ignorancia prove nga de no haber llenado los requisitos \\nque la ley prescribe para la celebración del matrimonio , la pena será de multa de setecientos \\ncincuenta a pesos doce mil quinientos e inhabilitación esp ecial por seis meses a dos años.  \\nSufrirá multa de pesos setecientos cincuenta a pesos doce mi l quinientos el oficial público que, \\nfuera de los demás casos de este artículo, procediere a la celebración de un matrimonio sin \\nhaber observado todas las formalidades exigidas por la l ey.  \\n(Nota Infoleg:  multa actualizada por art. 1° de la Ley N° 24.286  B.O. 29/12/1993) \\nARTICULO 137.  - En la misma pena incurrirá el representante legítim o de un menor impúber \\nque diere el consentimiento para el matrimonio del mi smo.  \\nCapítulo II', start_char_idx=0, end_char_idx=2428, text_template='{metadata_str}\\n\\n{content}', metadata_template='{key}: {value}', metadata_seperator='\\n'), score=0.878223415137106)], metadata={'aab97e14-d6df-4e99-bb5f-43f3cddef01e': {'page_label': '11', 'file_name': 'codigo_penal_de_la_republica_argentina.pdf'}, 'd724df88-9b20-4de7-8051-fce1cee5e4ef': {'page_label': '30', 'file_name': 'codigo_penal_de_la_republica_argentina.pdf'}})"
      ]
     },
     "execution_count": 31,
     "metadata": {},
     "output_type": "execute_result"
    }
   ],
   "source": [
    "\n",
    "from llama_index import VectorStoreIndex\n",
    "from llama_index import download_loader\n",
    "from llama_index import ServiceContext\n",
    "from llama_index.callbacks import CallbackManager, WandbCallbackHandler\n",
    "\n",
    "\n",
    "# Data Loader\n",
    "PDFReader = download_loader(\"PDFReader\")\n",
    "loader = PDFReader()\n",
    "documents = loader.load_data(file=Path('../codigo_penal_de_la_republica_argentina.pdf'))\n",
    "\n",
    "# initialise WandbCallbackHandler and pass any wandb.init args\n",
    "wandb_args = {\"project\":\"ali-test-2\"}\n",
    "wandb_callback = WandbCallbackHandler(run_args=wandb_args)\n",
    "\n",
    "# pass wandb_callback to the service context\n",
    "callback_manager = CallbackManager([wandb_callback])\n",
    "service_context = ServiceContext.from_defaults(callback_manager=callback_manager)\n",
    "\n",
    "# Chunking and Embedding of the chunks.\n",
    "index = VectorStoreIndex.from_documents(documents, service_context=service_context)\n",
    "\n",
    "# Retrieval, node poseprocessing, response synthesis.\n",
    "query_engine = index.as_query_engine()\n",
    "\n",
    "# Run the query engine on a user question.\n",
    "response = query_engine.query(\"que dice el articulo 14 del codigo penal argentino?\")\n",
    "\n",
    "response"
   ]
  },
  {
   "cell_type": "markdown",
   "id": "78cb21c0-036d-4a7a-a209-14c702d3b424",
   "metadata": {},
   "source": [
    "Setting up Evaluation using LlamaIndex\n",
    "We have a baseline QA bot, but to even think about improving it, we need a baseline score. This is where evaluating an LLM-based system comes into play. This is a tricky topic and it depends on the system you are trying to build.\n",
    "In this W&B report, \"How to Evaluate, Compare, and Optimize LLM Systems?\" I have tried to cover the whats and hows of evaluating an LLM-based system. We will not go into detail, but broadly speaking, there are three main categories:\n",
    "Eyeballing: while building a baseline LLM system, we usually eyeball to evaluate the performance of our model.\n",
    "Supervised: This is the recommended way of evaluation where you involve humans to generate an annotated eval dataset for evaluation.\n",
    "LLMs evaluate LLMs: In this paradigm, we leverage a powerful LLM to generate proxy targets based on some context. In our case of a QA bot, we can ask an LLM to generate question-answer pairs.\n",
    "\n",
    "\n"
   ]
  },
  {
   "cell_type": "markdown",
   "id": "68910aa9-4d9e-4119-b2b4-225e9d2358a8",
   "metadata": {},
   "source": [
    "Generating Questions using LlamaIndex\n",
    "Using LlamaIndex's, DatasetGenerator, we can easily generate questions that can be used to evaluate using one of the following strategies but not limited to:\n",
    "Evaluating response for hallucination: Is the generated response coming from the provided context, or is it making up things?\n",
    "Relevance of the retrieved chunks: Evaluate each retrieved chunk (node) against the generated response to see if that node contains the answer to the query. \n",
    "Evaluating the answer quality: Does the query + generated response come from the provided context?\n",
    "\n",
    "Using DatasetGenerator is easy, and one can pass the loaded documents to the DatasetGenerator.from_documents method. Calling generate_questions_from_nodes() on the object's instance will generate N questions per chunk. The default chunk size is 512, and N is 10. You might quickly realize that it will take a long time and a lot of API calls to generate a lot of questions. Let's customize the data generation process.\n",
    "\n"
   ]
  },
  {
   "cell_type": "code",
   "execution_count": 4,
   "id": "a6119f7d-6ccd-43e4-b667-4f1c0b07d33c",
   "metadata": {},
   "outputs": [
    {
     "data": {
      "text/plain": [
       "Response(response='\\nKrzysztof Maziarz, Andy Davis, Quoc Le, Geoffrey Hinton, and Jeff Dean.', source_nodes=[NodeWithScore(node=TextNode(id_='6483ae64-5538-48e6-ba8f-02452e417a6d', embedding=None, metadata={'page_label': '10', 'file_name': 'mindstorms.pdf'}, excluded_embed_metadata_keys=[], excluded_llm_metadata_keys=[], relationships={<NodeRelationship.SOURCE: '1'>: RelatedNodeInfo(node_id='18208c46-0337-4f62-b2b6-17276f0c5dbd', node_type=None, metadata={'page_label': '10', 'file_name': 'mindstorms.pdf'}, hash='169ecb16f411f01b9da078f9ea1646834d47b15ed9f401393b3ef0005caa3b78'), <NodeRelationship.PREVIOUS: '2'>: RelatedNodeInfo(node_id='084f371f-867b-43d3-a417-bd9567408cad', node_type=None, metadata={'page_label': '10', 'file_name': 'mindstorms.pdf'}, hash='40b65e30ddd22681bf1df3f671585575dac2643bdbf1c4f48b2efa21f3e83246')}, hash='1015ca2b568d94b6ae938cde2f5dede7e38cbb587e2719d1f41f13ae6e754920', text='Chenliang Li, Haiyang Xu, Junfeng Tian, Wei Wang, Ming Yan,\\nBin Bi, Jiabo Ye, Hehong Chen, Guohai Xu, Zheng Cao, et al.', start_char_idx=8338, end_char_idx=8457, text_template='{metadata_str}\\n\\n{content}', metadata_template='{key}: {value}', metadata_seperator='\\n'), score=0.7829675888761374), NodeWithScore(node=TextNode(id_='f49d1880-b517-4167-82d0-c57480ba915d', embedding=None, metadata={'page_label': '13', 'file_name': 'mindstorms.pdf'}, excluded_embed_metadata_keys=[], excluded_llm_metadata_keys=[], relationships={<NodeRelationship.SOURCE: '1'>: RelatedNodeInfo(node_id='23d3bdc6-398b-466f-b211-72cf13f8ecaa', node_type=None, metadata={'page_label': '13', 'file_name': 'mindstorms.pdf'}, hash='18ab5cdbf4abda2e53a7489bae21155a8c0d368b98733965bc18020b95a08b71'), <NodeRelationship.PREVIOUS: '2'>: RelatedNodeInfo(node_id='f3efa13c-48bf-4bff-abe8-97cce45e8422', node_type=None, metadata={'page_label': '13', 'file_name': 'mindstorms.pdf'}, hash='dec0edde35c9c4eea12f67c7c11260ef5ba701d073dfbfe3e333fc5db9a5548f')}, hash='d81351f14e0a07ccbe38bbf3cb00fb78548bc8862b8fd8f222ad9e6d71a63dcc', text='Krzysztof Maziarz, Andy\\nDavis, Quoc Le, Geoffrey Hinton, and Jeff Dean. Outrageously\\nlarge neural networks: The sparsely-gated mixture-of-experts\\nlayer.arXiv preprint arXiv:1701.06538, 2017.', start_char_idx=8235, end_char_idx=8425, text_template='{metadata_str}\\n\\n{content}', metadata_template='{key}: {value}', metadata_seperator='\\n'), score=0.7795502192052534)], metadata={'6483ae64-5538-48e6-ba8f-02452e417a6d': {'page_label': '10', 'file_name': 'mindstorms.pdf'}, 'f49d1880-b517-4167-82d0-c57480ba915d': {'page_label': '13', 'file_name': 'mindstorms.pdf'}})"
      ]
     },
     "execution_count": 4,
     "metadata": {},
     "output_type": "execute_result"
    }
   ],
   "source": [
    "response"
   ]
  },
  {
   "cell_type": "code",
   "execution_count": 32,
   "id": "b3954887-fa9d-4d34-b6e2-64bf11e3dd41",
   "metadata": {},
   "outputs": [],
   "source": [
    "from llama_index.evaluation import DatasetGenerator, QueryResponseEvaluator\n",
    "from llama_index import (\n",
    "    SimpleDirectoryReader,\n",
    "    VectorStoreIndex,\n",
    "    ServiceContext,\n",
    "    LLMPredictor,\n",
    "    Response,\n",
    ")\n",
    "from llama_index.llms import OpenAI\n",
    "\n",
    "import logging\n",
    "import sys\n",
    "import pandas as pd"
   ]
  },
  {
   "cell_type": "code",
   "execution_count": 33,
   "id": "ae95d989-4573-4d5c-b75d-1255668082e1",
   "metadata": {},
   "outputs": [
    {
     "name": "stderr",
     "output_type": "stream",
     "text": [
      "\u001b[34m\u001b[1mwandb\u001b[0m: Logged trace tree to W&B.\n",
      "\u001b[34m\u001b[1mwandb\u001b[0m: Logged trace tree to W&B.\n",
      "\u001b[34m\u001b[1mwandb\u001b[0m: Logged trace tree to W&B.\n",
      "\u001b[34m\u001b[1mwandb\u001b[0m: Logged trace tree to W&B.\n",
      "\u001b[34m\u001b[1mwandb\u001b[0m: Logged trace tree to W&B.\n",
      "\u001b[34m\u001b[1mwandb\u001b[0m: Logged trace tree to W&B.\n",
      "\u001b[34m\u001b[1mwandb\u001b[0m: Logged trace tree to W&B.\n",
      "\u001b[34m\u001b[1mwandb\u001b[0m: Logged trace tree to W&B.\n",
      "\u001b[34m\u001b[1mwandb\u001b[0m: Logged trace tree to W&B.\n",
      "\u001b[34m\u001b[1mwandb\u001b[0m: Logged trace tree to W&B.\n",
      "\u001b[34m\u001b[1mwandb\u001b[0m: Logged trace tree to W&B.\n",
      "\u001b[34m\u001b[1mwandb\u001b[0m: Logged trace tree to W&B.\n",
      "\u001b[34m\u001b[1mwandb\u001b[0m: Logged trace tree to W&B.\n",
      "\u001b[34m\u001b[1mwandb\u001b[0m: Logged trace tree to W&B.\n",
      "\u001b[34m\u001b[1mwandb\u001b[0m: Logged trace tree to W&B.\n",
      "\u001b[34m\u001b[1mwandb\u001b[0m: Logged trace tree to W&B.\n",
      "\u001b[34m\u001b[1mwandb\u001b[0m: Logged trace tree to W&B.\n",
      "\u001b[34m\u001b[1mwandb\u001b[0m: Logged trace tree to W&B.\n"
     ]
    },
    {
     "data": {
      "text/plain": [
       "['What are the potential penalties for individuals who obstruct the extinguishing of a fire or the defense against a disaster, according to the Argentine Penal Code?',\n",
       " 'How does the Argentine Penal Code differentiate the penalties for causing a fire or other damages due to negligence versus those that result in endangering or causing the death of a person?',\n",
       " 'What is the potential penalty for carrying unauthorized weapons according to the Penal Code of Argentina?',\n",
       " 'Under what circumstances can the penalty for carrying weapons be reduced according to the Penal Code of Argentina?',\n",
       " 'How does Article 172 of the Argentine Penal Code define the crime of fraud? Provide examples of the different fraudulent acts mentioned in the article.',\n",
       " 'According to Article 173 of the Argentine Penal Code, what are some specific cases of fraud and the corresponding penalties? Explain each case briefly.',\n",
       " 'What actions can be considered as defrauding the rights of cocontractors according to the Argentine Penal Code?',\n",
       " 'Under what circumstances can the execution of a property be considered illegal according to the Argentine Penal Code?',\n",
       " 'What are the penalties for the crime of abigeato according to the Argentine Penal Code?',\n",
       " 'Under what circumstances would a person receive a special disqualification in addition to their sentence for a crime under the Abigeato chapter of the Penal Code?',\n",
       " 'What are the potential penalties for a public official who requires the assistance of the police against the execution of legal provisions or judicial orders?',\n",
       " 'What are the consequences for a military personnel who abandons their service or deserts during a time of armed conflict or catastrophe?',\n",
       " 'What is the penalty for a military personnel who, due to negligence or failure to follow regulations, causes the death of one or more people during a conflict or disaster situation?',\n",
       " 'When does the law mentioned in the context information come into effect and what measures will be taken during the six-month period before its implementation?',\n",
       " 'What are the potential penalties for individuals who knowingly enter into an illegal marriage, despite being aware of an impediment that would render the marriage null and void?',\n",
       " 'Who can be held criminally liable for assisting in the commission of crimes outlined in this section of the penal code, and what penalties may they face?',\n",
       " 'What are the penalties for falsifying official seals, stamps, and marks according to the Argentine Penal Code?',\n",
       " 'What actions can result in imprisonment according to Article 287 of the Argentine Penal Code?',\n",
       " 'What is the penalty for knowingly using or selling invalidated stamps, seals, or marks, as mentioned in the given context information?',\n",
       " 'According to the context information, what is the range of fines for the offense of using or selling invalidated stamps, seals, or marks?',\n",
       " 'According to the Penal Code of Argentina, under what circumstances is abortion not considered a punishable offense?',\n",
       " \"What are the potential penalties for causing harm to another person's body or health, as outlined in the Penal Code of Argentina?\",\n",
       " \"What are the possible circumstances under which a person can be held liable for causing harm to another person's body or health according to the Argentine Penal Code?\",\n",
       " 'How does the minimum penalty for causing injuries described in articles 90 or 91 change if certain circumstances specified in the second paragraph of article 84 are present?',\n",
       " 'According to Article 52 of the Argentine Penal Code, under what circumstances can a person be sentenced to indefinite reclusion as an accessory to their last conviction?',\n",
       " 'What are the conditions that must be met for a convicted individual to be eligible for conditional release after serving a period of indefinite reclusion as stated in Article 53 of the Argentine Penal Code?',\n",
       " 'According to Article 54 of the Argentine Penal Code, what happens when a criminal act falls under multiple penalties?',\n",
       " 'How does Article 55 of the Argentine Penal Code determine the minimum penalty for a defendant when multiple independent acts are punished with the same type of penalty?',\n",
       " \"According to Article 175 bis of the Argentine Penal Code, what is the punishment for someone who takes advantage of another person's need, inexperience, or vulnerability to obtain excessive interest rates or extortive guarantees?\",\n",
       " 'In the case of a fraudulent bankruptcy, what are some of the actions that can lead to imprisonment and special disqualification for a period of time, as stated in Articles 176 and 177 of the Argentine Penal Code?',\n",
       " 'According to the context information, who are the individuals that could be held responsible for the bankruptcy of a bank or financial institution?',\n",
       " 'In the given context, what positions or roles within a failed company or establishment could potentially face legal consequences?',\n",
       " 'According to Article 119 of the Argentine Penal Code, what are the potential penalties for sexually abusing a minor under the age of thirteen?',\n",
       " 'In Article 120 of the Argentine Penal Code, what are the circumstances that can result in a higher penalty for someone who engages in sexual acts with a person under the age of sixteen?',\n",
       " 'What is the significance of the Law N° 25.087 in relation to the articles 121, 122, and 123 of the Argentine Penal Code?',\n",
       " 'Why were the articles 121, 122, and 123 of the Argentine Penal Code derogated by the Law N° 25.087?']"
      ]
     },
     "execution_count": 33,
     "metadata": {},
     "output_type": "execute_result"
    }
   ],
   "source": [
    "# Let's use GPT 3.5 as our LLM of choice.\n",
    "llm = OpenAI(temperature=0, model=\"gpt-3.5-turbo\")\n",
    "service_context = ServiceContext.from_defaults(llm=llm, callback_manager=callback_manager)\n",
    "\n",
    "\n",
    "# Let's just use a meaningful subset of the shuffled documents.\n",
    "random_documents = copy.deepcopy(documents)\n",
    "random.shuffle(random_documents)\n",
    "random_documents = random_documents[:10]\n",
    "\n",
    "\n",
    "# Let's reduce the number of questions per chunk.\n",
    "data_generator = DatasetGenerator.from_documents(\n",
    "    random_documents, service_context=service_context, num_questions_per_chunk=2\n",
    ")\n",
    "\n",
    "\n",
    "# Generate questions\n",
    "eval_questions = data_generator.generate_questions_from_nodes()\n",
    "eval_questions"
   ]
  },
  {
   "cell_type": "markdown",
   "id": "d12a9e8a-efd2-4d42-841e-fa978886462c",
   "metadata": {},
   "source": [
    "Evaluating for Hallucination\n",
    "The LLM generates a response using the provided context (chunks). In this evaluation strategy, we ask another LLM (GPT-4) to say a YES if the response was generated using the provided context and NO otherwise.\n",
    "One can implement this strategy in LlamaIndex using the ResponseEvaluator class. In this evaluation mode, we call the evaluate method of the instance of this class.\n",
    "\n"
   ]
  },
  {
   "cell_type": "code",
   "execution_count": 38,
   "id": "befdf6ce-3cd5-4d29-a735-2196706b6ad6",
   "metadata": {},
   "outputs": [],
   "source": [
    "from llama_index.evaluation import ResponseEvaluator\n",
    "\n",
    "\n",
    "\n",
    "gpt3 = OpenAI(temperature=0, model=\"gpt-3.5-turbo\")\n",
    "service_context_gpt3 = ServiceContext.from_defaults(llm=gpt3)\n",
    "evaluator_gpt3 = QueryResponseEvaluator(service_context=service_context_gpt3)\n",
    "# create vector index\n",
    "vector_index = VectorStoreIndex.from_documents(\n",
    "    documents, service_context=service_context_gpt3\n",
    ")"
   ]
  },
  {
   "cell_type": "code",
   "execution_count": 40,
   "id": "c5b323a7-dc6f-4895-8f50-64558340c9b7",
   "metadata": {},
   "outputs": [],
   "source": [
    "# define jupyter display function\n",
    "def display_eval_df(query: str, response: Response, eval_result: str) -> None:\n",
    "    eval_df = pd.DataFrame(\n",
    "        {\n",
    "            \"Query\": query,\n",
    "            \"Response\": str(response),\n",
    "            \"Source\": response.source_nodes[0].node.get_content()[:1000] + \"...\",\n",
    "            \"Evaluation Result\": eval_result,\n",
    "        },\n",
    "        index=[0],\n",
    "    )\n",
    "    eval_df = eval_df.style.set_properties(\n",
    "        **{\n",
    "            \"inline-size\": \"600px\",\n",
    "            \"overflow-wrap\": \"break-word\",\n",
    "        },\n",
    "        subset=[\"Response\", \"Source\"]\n",
    "    )\n",
    "    display(eval_df)\n",
    "\n",
    "\n"
   ]
  },
  {
   "cell_type": "code",
   "execution_count": 42,
   "id": "e5b11e00-1612-4a2e-8d4d-a49e95fb3de1",
   "metadata": {},
   "outputs": [],
   "source": [
    "query_engine = vector_index.as_query_engine()\n",
    "response_vector = query_engine.query(eval_questions[1])\n",
    "eval_result = evaluator_gpt3.evaluate(eval_questions[1], response_vector)"
   ]
  },
  {
   "cell_type": "code",
   "execution_count": 43,
   "id": "131cfce1-c1ad-447d-b8d6-e771800673bd",
   "metadata": {},
   "outputs": [
    {
     "data": {
      "text/html": [
       "<style type=\"text/css\">\n",
       "#T_7fbbf_row0_col1, #T_7fbbf_row0_col2 {\n",
       "  inline-size: 600px;\n",
       "  overflow-wrap: break-word;\n",
       "}\n",
       "</style>\n",
       "<table id=\"T_7fbbf\">\n",
       "  <thead>\n",
       "    <tr>\n",
       "      <th class=\"blank level0\" >&nbsp;</th>\n",
       "      <th id=\"T_7fbbf_level0_col0\" class=\"col_heading level0 col0\" >Query</th>\n",
       "      <th id=\"T_7fbbf_level0_col1\" class=\"col_heading level0 col1\" >Response</th>\n",
       "      <th id=\"T_7fbbf_level0_col2\" class=\"col_heading level0 col2\" >Source</th>\n",
       "      <th id=\"T_7fbbf_level0_col3\" class=\"col_heading level0 col3\" >Evaluation Result</th>\n",
       "    </tr>\n",
       "  </thead>\n",
       "  <tbody>\n",
       "    <tr>\n",
       "      <th id=\"T_7fbbf_level0_row0\" class=\"row_heading level0 row0\" >0</th>\n",
       "      <td id=\"T_7fbbf_row0_col0\" class=\"data row0 col0\" >How does the Argentine Penal Code differentiate the penalties for causing a fire or other damages due to negligence versus those that result in endangering or causing the death of a person?</td>\n",
       "      <td id=\"T_7fbbf_row0_col1\" class=\"data row0 col1\" >According to the context information provided, the Argentine Penal Code differentiates the penalties for causing a fire or other damages due to negligence from those that result in endangering or causing the death of a person based on the severity of the consequences. \n",
       "\n",
       "For causing a fire, explosion, or flood with common danger to property, the penalty is imprisonment or confinement for three to ten years. If the fire or destruction is caused by other means, such as the destruction of crops, forests, livestock, or other plantations, the penalty is also imprisonment or confinement for three to ten years.\n",
       "\n",
       "However, if there is danger to a public archive, library, museum, military arsenal, or if there is danger of death to a person, the penalties increase. The penalty for endangering a public archive, for example, is imprisonment or confinement for three to fifteen years. If the act results in the immediate death of a person, the penalty is imprisonment or confinement for eight to twenty years.\n",
       "\n",
       "Therefore, the Argentine Penal Code differentiates the penalties based on the level of danger or harm caused, with more severe penalties for acts that result in endangering or causing the death of a person.</td>\n",
       "      <td id=\"T_7fbbf_row0_col2\" class=\"data row0 col2\" >el que por imprudencia o negligencia, \n",
       "por impericia en su arte o profesión, o por inobservanci a de los reglamentos o deberes a su \n",
       "cargo, causare a otro un daño en el cuerpo o en la salud . \n",
       "Si las lesiones fueran de las descritas en los artículos 90 ó  91 y concurriera alguna de las \n",
       "circunstancias previstas en el segundo párrafo del artículo 84, el mínimo de la pena prevista \n",
       "en el primer párrafo, será de seis meses o multa de tres mil pesos e inhabilitación especial por \n",
       "dieciocho meses. \n",
       "(Artículo sustituido por art. 2° de la Ley N° 25.189  28/10/1999)...</td>\n",
       "      <td id=\"T_7fbbf_row0_col3\" class=\"data row0 col3\" >YES</td>\n",
       "    </tr>\n",
       "  </tbody>\n",
       "</table>\n"
      ],
      "text/plain": [
       "<pandas.io.formats.style.Styler at 0x7f52b9d468d0>"
      ]
     },
     "metadata": {},
     "output_type": "display_data"
    }
   ],
   "source": [
    "\n",
    "\n",
    "display_eval_df(eval_questions[1], response_vector, eval_result)\n",
    "\n"
   ]
  },
  {
   "cell_type": "code",
   "execution_count": 49,
   "id": "56f74684-e2b3-4710-b27b-545298ece166",
   "metadata": {},
   "outputs": [
    {
     "name": "stdout",
     "output_type": "stream",
     "text": [
      "Collecting nltk\n",
      "  Downloading nltk-3.8.1-py3-none-any.whl (1.5 MB)\n",
      "\u001b[2K     \u001b[38;2;114;156;31m━━━━━━━━━━━━━━━━━━━━━━━━━━━━━━━━━━━━━━━━\u001b[0m \u001b[32m1.5/1.5 MB\u001b[0m \u001b[31m6.8 MB/s\u001b[0m eta \u001b[36m0:00:00\u001b[0mm eta \u001b[36m0:00:01\u001b[0m0:01\u001b[0m:01\u001b[0m\n",
      "\u001b[?25hRequirement already satisfied: click in /home/franfram/.pyenv/versions/3.11.1/lib/python3.11/site-packages (from nltk) (8.1.6)\n",
      "Collecting joblib\n",
      "  Downloading joblib-1.3.1-py3-none-any.whl (301 kB)\n",
      "\u001b[2K     \u001b[38;2;114;156;31m━━━━━━━━━━━━━━━━━━━━━━━━━━━━━━━━━━━━━━━\u001b[0m \u001b[32m302.0/302.0 kB\u001b[0m \u001b[31m6.2 MB/s\u001b[0m eta \u001b[36m0:00:00\u001b[0m MB/s\u001b[0m eta \u001b[36m0:00:01\u001b[0m\n",
      "\u001b[?25hRequirement already satisfied: regex>=2021.8.3 in /home/franfram/.pyenv/versions/3.11.1/lib/python3.11/site-packages (from nltk) (2023.6.3)\n",
      "Requirement already satisfied: tqdm in /home/franfram/.pyenv/versions/3.11.1/lib/python3.11/site-packages (from nltk) (4.65.0)\n",
      "Installing collected packages: joblib, nltk\n",
      "Successfully installed joblib-1.3.1 nltk-3.8.1\n",
      "\n",
      "\u001b[1m[\u001b[0m\u001b[34;49mnotice\u001b[0m\u001b[1;39;49m]\u001b[0m\u001b[39;49m A new release of pip available: \u001b[0m\u001b[31;49m22.3.1\u001b[0m\u001b[39;49m -> \u001b[0m\u001b[32;49m23.2.1\u001b[0m\n",
      "\u001b[1m[\u001b[0m\u001b[34;49mnotice\u001b[0m\u001b[1;39;49m]\u001b[0m\u001b[39;49m To update, run: \u001b[0m\u001b[32;49mpip install --upgrade pip\u001b[0m\n"
     ]
    }
   ],
   "source": [
    "!pip install nltk"
   ]
  },
  {
   "cell_type": "code",
   "execution_count": 47,
   "id": "d35f8c94-43bc-4426-a4ce-f22c19534edc",
   "metadata": {},
   "outputs": [],
   "source": [
    "from llama_index import *"
   ]
  },
  {
   "cell_type": "code",
   "execution_count": 50,
   "id": "9083a491-0671-488d-b39e-d0af3e5cb80a",
   "metadata": {},
   "outputs": [
    {
     "name": "stderr",
     "output_type": "stream",
     "text": [
      "[nltk_data] Downloading package stopwords to\n",
      "[nltk_data]     /home/franfram/nltk_data...\n",
      "[nltk_data]   Unzipping corpora/stopwords.zip.\n"
     ]
    }
   ],
   "source": [
    "keyword_index = KeywordTableIndex.from_documents(documents)"
   ]
  },
  {
   "cell_type": "code",
   "execution_count": 51,
   "id": "fe77d585-a1ee-41a5-bf6b-7e8a18da224d",
   "metadata": {},
   "outputs": [
    {
     "data": {
      "text/plain": [
       "<llama_index.indices.keyword_table.base.KeywordTableIndex at 0x7f52b8d7cad0>"
      ]
     },
     "execution_count": 51,
     "metadata": {},
     "output_type": "execute_result"
    }
   ],
   "source": [
    "keyword_index"
   ]
  }
 ],
 "metadata": {
  "kernelspec": {
   "display_name": "Python 3 (ipykernel)",
   "language": "python",
   "name": "python3"
  },
  "language_info": {
   "codemirror_mode": {
    "name": "ipython",
    "version": 3
   },
   "file_extension": ".py",
   "mimetype": "text/x-python",
   "name": "python",
   "nbconvert_exporter": "python",
   "pygments_lexer": "ipython3",
   "version": "3.11.1"
  }
 },
 "nbformat": 4,
 "nbformat_minor": 5
}
